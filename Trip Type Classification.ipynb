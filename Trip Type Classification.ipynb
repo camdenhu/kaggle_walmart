{
 "cells": [
  {
   "cell_type": "code",
   "execution_count": 1,
   "metadata": {
    "collapsed": true
   },
   "outputs": [],
   "source": [
    "import numpy as np\n",
    "import pandas as pd"
   ]
  },
  {
   "cell_type": "code",
   "execution_count": 2,
   "metadata": {
    "collapsed": false
   },
   "outputs": [
    {
     "data": {
      "text/html": [
       "<div>\n",
       "<table border=\"1\" class=\"dataframe\">\n",
       "  <thead>\n",
       "    <tr style=\"text-align: right;\">\n",
       "      <th></th>\n",
       "      <th>TripType</th>\n",
       "      <th>VisitNumber</th>\n",
       "      <th>Weekday</th>\n",
       "      <th>Upc</th>\n",
       "      <th>ScanCount</th>\n",
       "      <th>DepartmentDescription</th>\n",
       "      <th>FinelineNumber</th>\n",
       "    </tr>\n",
       "  </thead>\n",
       "  <tbody>\n",
       "    <tr>\n",
       "      <th>0</th>\n",
       "      <td>999</td>\n",
       "      <td>5</td>\n",
       "      <td>Friday</td>\n",
       "      <td>68113152929</td>\n",
       "      <td>-1</td>\n",
       "      <td>FINANCIAL SERVICES</td>\n",
       "      <td>1000</td>\n",
       "    </tr>\n",
       "    <tr>\n",
       "      <th>1</th>\n",
       "      <td>30</td>\n",
       "      <td>7</td>\n",
       "      <td>Friday</td>\n",
       "      <td>60538815980</td>\n",
       "      <td>1</td>\n",
       "      <td>SHOES</td>\n",
       "      <td>8931</td>\n",
       "    </tr>\n",
       "    <tr>\n",
       "      <th>2</th>\n",
       "      <td>30</td>\n",
       "      <td>7</td>\n",
       "      <td>Friday</td>\n",
       "      <td>7410811099</td>\n",
       "      <td>1</td>\n",
       "      <td>PERSONAL CARE</td>\n",
       "      <td>4504</td>\n",
       "    </tr>\n",
       "    <tr>\n",
       "      <th>3</th>\n",
       "      <td>26</td>\n",
       "      <td>8</td>\n",
       "      <td>Friday</td>\n",
       "      <td>2238403510</td>\n",
       "      <td>2</td>\n",
       "      <td>PAINT AND ACCESSORIES</td>\n",
       "      <td>3565</td>\n",
       "    </tr>\n",
       "    <tr>\n",
       "      <th>4</th>\n",
       "      <td>26</td>\n",
       "      <td>8</td>\n",
       "      <td>Friday</td>\n",
       "      <td>2006613744</td>\n",
       "      <td>2</td>\n",
       "      <td>PAINT AND ACCESSORIES</td>\n",
       "      <td>1017</td>\n",
       "    </tr>\n",
       "  </tbody>\n",
       "</table>\n",
       "</div>"
      ],
      "text/plain": [
       "   TripType  VisitNumber Weekday          Upc  ScanCount  \\\n",
       "0       999            5  Friday  68113152929         -1   \n",
       "1        30            7  Friday  60538815980          1   \n",
       "2        30            7  Friday   7410811099          1   \n",
       "3        26            8  Friday   2238403510          2   \n",
       "4        26            8  Friday   2006613744          2   \n",
       "\n",
       "   DepartmentDescription FinelineNumber  \n",
       "0     FINANCIAL SERVICES           1000  \n",
       "1                  SHOES           8931  \n",
       "2          PERSONAL CARE           4504  \n",
       "3  PAINT AND ACCESSORIES           3565  \n",
       "4  PAINT AND ACCESSORIES           1017  "
      ]
     },
     "execution_count": 2,
     "metadata": {},
     "output_type": "execute_result"
    }
   ],
   "source": [
    "train_data = pd.read_csv('train.csv',\n",
    "                         dtype = {'TripType': np.int64,\n",
    "                                  'VisitNumber': np.int64,\n",
    "                                  'Weekday': str,\n",
    "                                  'Upc': str,\n",
    "                                  'ScanCount': np.int64,\n",
    "                                  'DepartmentDescription': str,\n",
    "                                  'FinelineNumber': str})\n",
    "train_data.head()"
   ]
  },
  {
   "cell_type": "code",
   "execution_count": 3,
   "metadata": {
    "collapsed": false
   },
   "outputs": [
    {
     "data": {
      "text/plain": [
       "TripType                  int64\n",
       "VisitNumber               int64\n",
       "Weekday                  object\n",
       "Upc                      object\n",
       "ScanCount                 int64\n",
       "DepartmentDescription    object\n",
       "FinelineNumber           object\n",
       "dtype: object"
      ]
     },
     "execution_count": 3,
     "metadata": {},
     "output_type": "execute_result"
    }
   ],
   "source": [
    "train_data.dtypes"
   ]
  },
  {
   "cell_type": "code",
   "execution_count": 4,
   "metadata": {
    "collapsed": false
   },
   "outputs": [
    {
     "data": {
      "text/plain": [
       "TripType                    0\n",
       "VisitNumber                 0\n",
       "Weekday                     0\n",
       "Upc                      4129\n",
       "ScanCount                   0\n",
       "DepartmentDescription    1361\n",
       "FinelineNumber           4129\n",
       "dtype: int64"
      ]
     },
     "execution_count": 4,
     "metadata": {},
     "output_type": "execute_result"
    }
   ],
   "source": [
    "train_data.isnull().sum()"
   ]
  },
  {
   "cell_type": "code",
   "execution_count": 5,
   "metadata": {
    "collapsed": true
   },
   "outputs": [],
   "source": [
    "train_data['UpcLength'] = train_data['Upc'].str.len()\n",
    "train_data['UpcStart'] = train_data['Upc'].str.get(0)"
   ]
  },
  {
   "cell_type": "code",
   "execution_count": 6,
   "metadata": {
    "collapsed": false
   },
   "outputs": [
    {
     "data": {
      "text/plain": [
       "count                645693\n",
       "unique                   68\n",
       "top       GROCERY DRY GOODS\n",
       "freq                  70402\n",
       "Name: DepartmentDescription, dtype: object"
      ]
     },
     "execution_count": 6,
     "metadata": {},
     "output_type": "execute_result"
    }
   ],
   "source": [
    "train_data['DepartmentDescription'].astype('category').describe()"
   ]
  },
  {
   "cell_type": "code",
   "execution_count": 7,
   "metadata": {
    "collapsed": false
   },
   "outputs": [
    {
     "data": {
      "text/plain": [
       "count     642925\n",
       "unique      5195\n",
       "top         5501\n",
       "freq        8244\n",
       "Name: FinelineNumber, dtype: object"
      ]
     },
     "execution_count": 7,
     "metadata": {},
     "output_type": "execute_result"
    }
   ],
   "source": [
    "train_data['FinelineNumber'].astype('category').describe()"
   ]
  },
  {
   "cell_type": "code",
   "execution_count": 8,
   "metadata": {
    "collapsed": true
   },
   "outputs": [],
   "source": [
    "groups = train_data.groupby(['VisitNumber', 'TripType', 'Weekday'])\n",
    "product_count = groups.size()\n",
    "products_missing_upc = groups['Upc'].apply(lambda x: sum(x.isnull()))\n",
    "products_missing_department = groups['DepartmentDescription'].apply(lambda x: sum(x.isnull()))\n",
    "products_missing_fineline = groups['FinelineNumber'].apply(lambda x: sum(x.isnull()))\n",
    "department_count = groups['DepartmentDescription'].apply(lambda x: len(set(x)))\n",
    "fineline_count = groups['FinelineNumber'].apply(lambda x: len(set(x)))\n",
    "items_bought = groups['ScanCount'].apply(lambda x: sum(x[x>0]))\n",
    "items_returned = groups['ScanCount'].apply(lambda x: -sum(x[x<0]))\n",
    "products_bought = groups['ScanCount'].apply(lambda x: x[x>0].size)\n",
    "products_returned = groups['ScanCount'].apply(lambda x: x[x<0].size)\n",
    "most_items_bought = groups['ScanCount'].apply(lambda x: max(max(x), 0))\n",
    "most_items_returned = groups['ScanCount'].apply(lambda x: -min(min(x), 0))"
   ]
  },
  {
   "cell_type": "code",
   "execution_count": 9,
   "metadata": {
    "collapsed": true
   },
   "outputs": [],
   "source": [
    "departments = train_data['DepartmentDescription'].unique()\n",
    "department_presence = {}\n",
    "for department in departments:\n",
    "    department_key = 'department_' + str(department)\n",
    "    department_presence[department_key] = groups['DepartmentDescription'].apply(lambda x: list(x).count(department))"
   ]
  },
  {
   "cell_type": "code",
   "execution_count": 10,
   "metadata": {
    "collapsed": true
   },
   "outputs": [],
   "source": [
    "upc_length_unique = train_data['UpcLength'].unique()\n",
    "upc_length = {}\n",
    "for i in np.sort(upc_length_unique[~np.isnan(upc_length_unique)]):\n",
    "    upc_length_key = 'upc_length_' + str(i)\n",
    "    upc_length[upc_length_key] = groups['UpcLength'].apply(lambda x: list(x).count(i))"
   ]
  },
  {
   "cell_type": "code",
   "execution_count": 11,
   "metadata": {
    "collapsed": false
   },
   "outputs": [],
   "source": [
    "upc_start_unique = train_data['UpcStart'].unique()\n",
    "upc_start = {}\n",
    "for i in np.sort(upc_start_unique[~pd.isnull(upc_start_unique)]):\n",
    "    upc_start_key = 'upc_start_' + str(i)\n",
    "    upc_start[upc_start_key] = groups['UpcStart'].apply(lambda x: list(x).count(i))"
   ]
  },
  {
   "cell_type": "code",
   "execution_count": 12,
   "metadata": {
    "collapsed": true
   },
   "outputs": [],
   "source": [
    "columns = {'product_count': product_count, \n",
    "           'department_count': department_count,\n",
    "           'fineline_count': fineline_count,\n",
    "           'products_missing_upc': products_missing_upc, \n",
    "           'products_missing_department': products_missing_department,\n",
    "           'products_missing_fineline': products_missing_fineline,\n",
    "           'products_bought': products_bought,\n",
    "           'products_returned': products_returned,\n",
    "           'items_bought': items_bought,\n",
    "           'items_returned': items_returned,\n",
    "           'most_items_bought': most_items_bought,\n",
    "           'most_items_returned': most_items_returned}\n",
    "columns.update(department_presence)\n",
    "columns.update(upc_length)\n",
    "columns.update(upc_start)\n",
    "final_train_data = pd.DataFrame(columns)\n",
    "final_train_data = final_train_data.reset_index()"
   ]
  },
  {
   "cell_type": "code",
   "execution_count": 13,
   "metadata": {
    "collapsed": false
   },
   "outputs": [
    {
     "data": {
      "text/html": [
       "<div>\n",
       "<table border=\"1\" class=\"dataframe\">\n",
       "  <thead>\n",
       "    <tr style=\"text-align: right;\">\n",
       "      <th></th>\n",
       "      <th>VisitNumber</th>\n",
       "      <th>TripType</th>\n",
       "      <th>department_1-HR PHOTO</th>\n",
       "      <th>department_ACCESSORIES</th>\n",
       "      <th>department_AUTOMOTIVE</th>\n",
       "      <th>department_BAKERY</th>\n",
       "      <th>department_BATH AND SHOWER</th>\n",
       "      <th>department_BEAUTY</th>\n",
       "      <th>department_BEDDING</th>\n",
       "      <th>department_BOOKS AND MAGAZINES</th>\n",
       "      <th>...</th>\n",
       "      <th>bought_only</th>\n",
       "      <th>returned_only</th>\n",
       "      <th>bought_and_returned</th>\n",
       "      <th>Weekday_Friday</th>\n",
       "      <th>Weekday_Monday</th>\n",
       "      <th>Weekday_Saturday</th>\n",
       "      <th>Weekday_Sunday</th>\n",
       "      <th>Weekday_Thursday</th>\n",
       "      <th>Weekday_Tuesday</th>\n",
       "      <th>Weekday_Wednesday</th>\n",
       "    </tr>\n",
       "  </thead>\n",
       "  <tbody>\n",
       "    <tr>\n",
       "      <th>0</th>\n",
       "      <td>5</td>\n",
       "      <td>999</td>\n",
       "      <td>0</td>\n",
       "      <td>0</td>\n",
       "      <td>0</td>\n",
       "      <td>0</td>\n",
       "      <td>0</td>\n",
       "      <td>0</td>\n",
       "      <td>0</td>\n",
       "      <td>0</td>\n",
       "      <td>...</td>\n",
       "      <td>0</td>\n",
       "      <td>1</td>\n",
       "      <td>0</td>\n",
       "      <td>1</td>\n",
       "      <td>0</td>\n",
       "      <td>0</td>\n",
       "      <td>0</td>\n",
       "      <td>0</td>\n",
       "      <td>0</td>\n",
       "      <td>0</td>\n",
       "    </tr>\n",
       "    <tr>\n",
       "      <th>1</th>\n",
       "      <td>7</td>\n",
       "      <td>30</td>\n",
       "      <td>0</td>\n",
       "      <td>0</td>\n",
       "      <td>0</td>\n",
       "      <td>0</td>\n",
       "      <td>0</td>\n",
       "      <td>0</td>\n",
       "      <td>0</td>\n",
       "      <td>0</td>\n",
       "      <td>...</td>\n",
       "      <td>1</td>\n",
       "      <td>0</td>\n",
       "      <td>0</td>\n",
       "      <td>1</td>\n",
       "      <td>0</td>\n",
       "      <td>0</td>\n",
       "      <td>0</td>\n",
       "      <td>0</td>\n",
       "      <td>0</td>\n",
       "      <td>0</td>\n",
       "    </tr>\n",
       "    <tr>\n",
       "      <th>2</th>\n",
       "      <td>8</td>\n",
       "      <td>26</td>\n",
       "      <td>0</td>\n",
       "      <td>0</td>\n",
       "      <td>0</td>\n",
       "      <td>0</td>\n",
       "      <td>0</td>\n",
       "      <td>0</td>\n",
       "      <td>0</td>\n",
       "      <td>0</td>\n",
       "      <td>...</td>\n",
       "      <td>0</td>\n",
       "      <td>0</td>\n",
       "      <td>1</td>\n",
       "      <td>1</td>\n",
       "      <td>0</td>\n",
       "      <td>0</td>\n",
       "      <td>0</td>\n",
       "      <td>0</td>\n",
       "      <td>0</td>\n",
       "      <td>0</td>\n",
       "    </tr>\n",
       "    <tr>\n",
       "      <th>3</th>\n",
       "      <td>9</td>\n",
       "      <td>8</td>\n",
       "      <td>0</td>\n",
       "      <td>0</td>\n",
       "      <td>0</td>\n",
       "      <td>0</td>\n",
       "      <td>0</td>\n",
       "      <td>0</td>\n",
       "      <td>0</td>\n",
       "      <td>0</td>\n",
       "      <td>...</td>\n",
       "      <td>1</td>\n",
       "      <td>0</td>\n",
       "      <td>0</td>\n",
       "      <td>1</td>\n",
       "      <td>0</td>\n",
       "      <td>0</td>\n",
       "      <td>0</td>\n",
       "      <td>0</td>\n",
       "      <td>0</td>\n",
       "      <td>0</td>\n",
       "    </tr>\n",
       "    <tr>\n",
       "      <th>4</th>\n",
       "      <td>10</td>\n",
       "      <td>8</td>\n",
       "      <td>0</td>\n",
       "      <td>0</td>\n",
       "      <td>0</td>\n",
       "      <td>0</td>\n",
       "      <td>0</td>\n",
       "      <td>0</td>\n",
       "      <td>0</td>\n",
       "      <td>0</td>\n",
       "      <td>...</td>\n",
       "      <td>1</td>\n",
       "      <td>0</td>\n",
       "      <td>0</td>\n",
       "      <td>1</td>\n",
       "      <td>0</td>\n",
       "      <td>0</td>\n",
       "      <td>0</td>\n",
       "      <td>0</td>\n",
       "      <td>0</td>\n",
       "      <td>0</td>\n",
       "    </tr>\n",
       "  </tbody>\n",
       "</table>\n",
       "<p>5 rows × 112 columns</p>\n",
       "</div>"
      ],
      "text/plain": [
       "   VisitNumber  TripType  department_1-HR PHOTO  department_ACCESSORIES  \\\n",
       "0            5       999                      0                       0   \n",
       "1            7        30                      0                       0   \n",
       "2            8        26                      0                       0   \n",
       "3            9         8                      0                       0   \n",
       "4           10         8                      0                       0   \n",
       "\n",
       "   department_AUTOMOTIVE  department_BAKERY  department_BATH AND SHOWER  \\\n",
       "0                      0                  0                           0   \n",
       "1                      0                  0                           0   \n",
       "2                      0                  0                           0   \n",
       "3                      0                  0                           0   \n",
       "4                      0                  0                           0   \n",
       "\n",
       "   department_BEAUTY  department_BEDDING  department_BOOKS AND MAGAZINES  \\\n",
       "0                  0                   0                               0   \n",
       "1                  0                   0                               0   \n",
       "2                  0                   0                               0   \n",
       "3                  0                   0                               0   \n",
       "4                  0                   0                               0   \n",
       "\n",
       "         ...          bought_only  returned_only  bought_and_returned  \\\n",
       "0        ...                    0              1                    0   \n",
       "1        ...                    1              0                    0   \n",
       "2        ...                    0              0                    1   \n",
       "3        ...                    1              0                    0   \n",
       "4        ...                    1              0                    0   \n",
       "\n",
       "   Weekday_Friday  Weekday_Monday  Weekday_Saturday  Weekday_Sunday  \\\n",
       "0               1               0                 0               0   \n",
       "1               1               0                 0               0   \n",
       "2               1               0                 0               0   \n",
       "3               1               0                 0               0   \n",
       "4               1               0                 0               0   \n",
       "\n",
       "   Weekday_Thursday  Weekday_Tuesday  Weekday_Wednesday  \n",
       "0                 0                0                  0  \n",
       "1                 0                0                  0  \n",
       "2                 0                0                  0  \n",
       "3                 0                0                  0  \n",
       "4                 0                0                  0  \n",
       "\n",
       "[5 rows x 112 columns]"
      ]
     },
     "execution_count": 13,
     "metadata": {},
     "output_type": "execute_result"
    }
   ],
   "source": [
    "final_train_data['weekend'] = final_train_data['Weekday'].isin(['Saturday', 'Sunday'])\n",
    "bought = final_train_data['products_bought'] > 0\n",
    "returned = final_train_data['products_returned'] > 0\n",
    "final_train_data['bought_only'] = bought & -returned\n",
    "final_train_data['returned_only'] = -bought & returned\n",
    "final_train_data['bought_and_returned'] = bought & returned\n",
    "final_train_data = pd.get_dummies(final_train_data)\n",
    "final_train_data = final_train_data.astype(int)\n",
    "final_train_data.head()"
   ]
  },
  {
   "cell_type": "code",
   "execution_count": null,
   "metadata": {
    "collapsed": true
   },
   "outputs": [],
   "source": []
  },
  {
   "cell_type": "code",
   "execution_count": 14,
   "metadata": {
    "collapsed": false
   },
   "outputs": [
    {
     "data": {
      "text/html": [
       "<div>\n",
       "<table border=\"1\" class=\"dataframe\">\n",
       "  <thead>\n",
       "    <tr style=\"text-align: right;\">\n",
       "      <th></th>\n",
       "      <th>VisitNumber</th>\n",
       "      <th>Weekday</th>\n",
       "      <th>Upc</th>\n",
       "      <th>ScanCount</th>\n",
       "      <th>DepartmentDescription</th>\n",
       "      <th>FinelineNumber</th>\n",
       "    </tr>\n",
       "  </thead>\n",
       "  <tbody>\n",
       "    <tr>\n",
       "      <th>0</th>\n",
       "      <td>1</td>\n",
       "      <td>Friday</td>\n",
       "      <td>72503389714</td>\n",
       "      <td>1</td>\n",
       "      <td>SHOES</td>\n",
       "      <td>3002</td>\n",
       "    </tr>\n",
       "    <tr>\n",
       "      <th>1</th>\n",
       "      <td>1</td>\n",
       "      <td>Friday</td>\n",
       "      <td>1707710732</td>\n",
       "      <td>1</td>\n",
       "      <td>DAIRY</td>\n",
       "      <td>1526</td>\n",
       "    </tr>\n",
       "    <tr>\n",
       "      <th>2</th>\n",
       "      <td>1</td>\n",
       "      <td>Friday</td>\n",
       "      <td>89470001026</td>\n",
       "      <td>1</td>\n",
       "      <td>DAIRY</td>\n",
       "      <td>1431</td>\n",
       "    </tr>\n",
       "    <tr>\n",
       "      <th>3</th>\n",
       "      <td>1</td>\n",
       "      <td>Friday</td>\n",
       "      <td>88491211470</td>\n",
       "      <td>1</td>\n",
       "      <td>GROCERY DRY GOODS</td>\n",
       "      <td>3555</td>\n",
       "    </tr>\n",
       "    <tr>\n",
       "      <th>4</th>\n",
       "      <td>2</td>\n",
       "      <td>Friday</td>\n",
       "      <td>2840015224</td>\n",
       "      <td>1</td>\n",
       "      <td>DSD GROCERY</td>\n",
       "      <td>4408</td>\n",
       "    </tr>\n",
       "  </tbody>\n",
       "</table>\n",
       "</div>"
      ],
      "text/plain": [
       "   VisitNumber Weekday          Upc  ScanCount DepartmentDescription  \\\n",
       "0            1  Friday  72503389714          1                 SHOES   \n",
       "1            1  Friday   1707710732          1                 DAIRY   \n",
       "2            1  Friday  89470001026          1                 DAIRY   \n",
       "3            1  Friday  88491211470          1     GROCERY DRY GOODS   \n",
       "4            2  Friday   2840015224          1           DSD GROCERY   \n",
       "\n",
       "  FinelineNumber  \n",
       "0           3002  \n",
       "1           1526  \n",
       "2           1431  \n",
       "3           3555  \n",
       "4           4408  "
      ]
     },
     "execution_count": 14,
     "metadata": {},
     "output_type": "execute_result"
    }
   ],
   "source": [
    "test_data = pd.read_csv('test.csv',\n",
    "                         dtype = {'VisitNumber': np.int64,\n",
    "                                  'Weekday': str,\n",
    "                                  'Upc': str,\n",
    "                                  'ScanCount': np.int64,\n",
    "                                  'DepartmentDescription': str,\n",
    "                                  'FinelineNumber': str})\n",
    "test_data.head()"
   ]
  },
  {
   "cell_type": "code",
   "execution_count": 15,
   "metadata": {
    "collapsed": true
   },
   "outputs": [],
   "source": [
    "test_data['UpcLength'] = test_data['Upc'].str.len()\n",
    "test_data['UpcStart'] = test_data['Upc'].str.get(0)"
   ]
  },
  {
   "cell_type": "code",
   "execution_count": 16,
   "metadata": {
    "collapsed": false
   },
   "outputs": [],
   "source": [
    "groups = test_data.groupby(['VisitNumber', 'Weekday'])\n",
    "product_count = groups.size()\n",
    "products_missing_upc = groups['Upc'].apply(lambda x: sum(x.isnull()))\n",
    "products_missing_department = groups['DepartmentDescription'].apply(lambda x: sum(x.isnull()))\n",
    "products_missing_fineline = groups['FinelineNumber'].apply(lambda x: sum(x.isnull()))\n",
    "department_count = groups['DepartmentDescription'].apply(lambda x: len(set(x)))\n",
    "fineline_count = groups['FinelineNumber'].apply(lambda x: len(set(x)))\n",
    "items_bought = groups['ScanCount'].apply(lambda x: sum(x[x>0]))\n",
    "items_returned = groups['ScanCount'].apply(lambda x: -sum(x[x<0]))\n",
    "products_bought = groups['ScanCount'].apply(lambda x: x[x>0].size)\n",
    "products_returned = groups['ScanCount'].apply(lambda x: x[x<0].size)\n",
    "most_items_bought = groups['ScanCount'].apply(lambda x: max(max(x), 0))\n",
    "most_items_returned = groups['ScanCount'].apply(lambda x: -min(min(x), 0))"
   ]
  },
  {
   "cell_type": "code",
   "execution_count": 17,
   "metadata": {
    "collapsed": true
   },
   "outputs": [],
   "source": [
    "department_presence = {}\n",
    "for department in departments:\n",
    "    department_key = 'department_' + str(department)\n",
    "    department_presence[department_key] = groups['DepartmentDescription'].apply(lambda x: list(x).count(department))"
   ]
  },
  {
   "cell_type": "code",
   "execution_count": 18,
   "metadata": {
    "collapsed": true
   },
   "outputs": [],
   "source": [
    "upc_length = {}\n",
    "for i in np.sort(upc_length_unique[~np.isnan(upc_length_unique)]):\n",
    "    upc_length_key = 'upc_length_' + str(i)\n",
    "    upc_length[upc_length_key] = groups['UpcLength'].apply(lambda x: list(x).count(i))"
   ]
  },
  {
   "cell_type": "code",
   "execution_count": 19,
   "metadata": {
    "collapsed": true
   },
   "outputs": [],
   "source": [
    "upc_start = {}\n",
    "for i in np.sort(upc_start_unique[~pd.isnull(upc_start_unique)]):\n",
    "    upc_start_key = 'upc_start_' + str(i)\n",
    "    upc_start[upc_start_key] = groups['UpcStart'].apply(lambda x: list(x).count(i))"
   ]
  },
  {
   "cell_type": "code",
   "execution_count": 20,
   "metadata": {
    "collapsed": true
   },
   "outputs": [],
   "source": [
    "columns = {'product_count': product_count, \n",
    "           'department_count': department_count,\n",
    "           'fineline_count': fineline_count,\n",
    "           'products_missing_upc': products_missing_upc, \n",
    "           'products_missing_department': products_missing_department,\n",
    "           'products_missing_fineline': products_missing_fineline,\n",
    "           'products_bought': products_bought,\n",
    "           'products_returned': products_returned,\n",
    "           'items_bought': items_bought,\n",
    "           'items_returned': items_returned,\n",
    "           'most_items_bought': most_items_bought,\n",
    "           'most_items_returned': most_items_returned}\n",
    "columns.update(department_presence)\n",
    "columns.update(upc_length)\n",
    "columns.update(upc_start)\n",
    "final_test_data = pd.DataFrame(columns)\n",
    "final_test_data = final_test_data.reset_index()"
   ]
  },
  {
   "cell_type": "code",
   "execution_count": 21,
   "metadata": {
    "collapsed": false
   },
   "outputs": [
    {
     "data": {
      "text/html": [
       "<div>\n",
       "<table border=\"1\" class=\"dataframe\">\n",
       "  <thead>\n",
       "    <tr style=\"text-align: right;\">\n",
       "      <th></th>\n",
       "      <th>VisitNumber</th>\n",
       "      <th>department_1-HR PHOTO</th>\n",
       "      <th>department_ACCESSORIES</th>\n",
       "      <th>department_AUTOMOTIVE</th>\n",
       "      <th>department_BAKERY</th>\n",
       "      <th>department_BATH AND SHOWER</th>\n",
       "      <th>department_BEAUTY</th>\n",
       "      <th>department_BEDDING</th>\n",
       "      <th>department_BOOKS AND MAGAZINES</th>\n",
       "      <th>department_BOYS WEAR</th>\n",
       "      <th>...</th>\n",
       "      <th>bought_only</th>\n",
       "      <th>returned_only</th>\n",
       "      <th>bought_and_returned</th>\n",
       "      <th>Weekday_Friday</th>\n",
       "      <th>Weekday_Monday</th>\n",
       "      <th>Weekday_Saturday</th>\n",
       "      <th>Weekday_Sunday</th>\n",
       "      <th>Weekday_Thursday</th>\n",
       "      <th>Weekday_Tuesday</th>\n",
       "      <th>Weekday_Wednesday</th>\n",
       "    </tr>\n",
       "  </thead>\n",
       "  <tbody>\n",
       "    <tr>\n",
       "      <th>0</th>\n",
       "      <td>1</td>\n",
       "      <td>0</td>\n",
       "      <td>0</td>\n",
       "      <td>0</td>\n",
       "      <td>0</td>\n",
       "      <td>0</td>\n",
       "      <td>0</td>\n",
       "      <td>0</td>\n",
       "      <td>0</td>\n",
       "      <td>0</td>\n",
       "      <td>...</td>\n",
       "      <td>1</td>\n",
       "      <td>0</td>\n",
       "      <td>0</td>\n",
       "      <td>1</td>\n",
       "      <td>0</td>\n",
       "      <td>0</td>\n",
       "      <td>0</td>\n",
       "      <td>0</td>\n",
       "      <td>0</td>\n",
       "      <td>0</td>\n",
       "    </tr>\n",
       "    <tr>\n",
       "      <th>1</th>\n",
       "      <td>2</td>\n",
       "      <td>0</td>\n",
       "      <td>0</td>\n",
       "      <td>0</td>\n",
       "      <td>1</td>\n",
       "      <td>0</td>\n",
       "      <td>0</td>\n",
       "      <td>0</td>\n",
       "      <td>0</td>\n",
       "      <td>0</td>\n",
       "      <td>...</td>\n",
       "      <td>1</td>\n",
       "      <td>0</td>\n",
       "      <td>0</td>\n",
       "      <td>1</td>\n",
       "      <td>0</td>\n",
       "      <td>0</td>\n",
       "      <td>0</td>\n",
       "      <td>0</td>\n",
       "      <td>0</td>\n",
       "      <td>0</td>\n",
       "    </tr>\n",
       "    <tr>\n",
       "      <th>2</th>\n",
       "      <td>3</td>\n",
       "      <td>0</td>\n",
       "      <td>0</td>\n",
       "      <td>0</td>\n",
       "      <td>0</td>\n",
       "      <td>0</td>\n",
       "      <td>0</td>\n",
       "      <td>0</td>\n",
       "      <td>0</td>\n",
       "      <td>0</td>\n",
       "      <td>...</td>\n",
       "      <td>0</td>\n",
       "      <td>0</td>\n",
       "      <td>1</td>\n",
       "      <td>1</td>\n",
       "      <td>0</td>\n",
       "      <td>0</td>\n",
       "      <td>0</td>\n",
       "      <td>0</td>\n",
       "      <td>0</td>\n",
       "      <td>0</td>\n",
       "    </tr>\n",
       "    <tr>\n",
       "      <th>3</th>\n",
       "      <td>4</td>\n",
       "      <td>0</td>\n",
       "      <td>0</td>\n",
       "      <td>0</td>\n",
       "      <td>0</td>\n",
       "      <td>0</td>\n",
       "      <td>0</td>\n",
       "      <td>0</td>\n",
       "      <td>0</td>\n",
       "      <td>0</td>\n",
       "      <td>...</td>\n",
       "      <td>1</td>\n",
       "      <td>0</td>\n",
       "      <td>0</td>\n",
       "      <td>1</td>\n",
       "      <td>0</td>\n",
       "      <td>0</td>\n",
       "      <td>0</td>\n",
       "      <td>0</td>\n",
       "      <td>0</td>\n",
       "      <td>0</td>\n",
       "    </tr>\n",
       "    <tr>\n",
       "      <th>4</th>\n",
       "      <td>6</td>\n",
       "      <td>0</td>\n",
       "      <td>0</td>\n",
       "      <td>0</td>\n",
       "      <td>0</td>\n",
       "      <td>0</td>\n",
       "      <td>0</td>\n",
       "      <td>0</td>\n",
       "      <td>0</td>\n",
       "      <td>2</td>\n",
       "      <td>...</td>\n",
       "      <td>0</td>\n",
       "      <td>0</td>\n",
       "      <td>1</td>\n",
       "      <td>1</td>\n",
       "      <td>0</td>\n",
       "      <td>0</td>\n",
       "      <td>0</td>\n",
       "      <td>0</td>\n",
       "      <td>0</td>\n",
       "      <td>0</td>\n",
       "    </tr>\n",
       "  </tbody>\n",
       "</table>\n",
       "<p>5 rows × 111 columns</p>\n",
       "</div>"
      ],
      "text/plain": [
       "   VisitNumber  department_1-HR PHOTO  department_ACCESSORIES  \\\n",
       "0            1                      0                       0   \n",
       "1            2                      0                       0   \n",
       "2            3                      0                       0   \n",
       "3            4                      0                       0   \n",
       "4            6                      0                       0   \n",
       "\n",
       "   department_AUTOMOTIVE  department_BAKERY  department_BATH AND SHOWER  \\\n",
       "0                      0                  0                           0   \n",
       "1                      0                  1                           0   \n",
       "2                      0                  0                           0   \n",
       "3                      0                  0                           0   \n",
       "4                      0                  0                           0   \n",
       "\n",
       "   department_BEAUTY  department_BEDDING  department_BOOKS AND MAGAZINES  \\\n",
       "0                  0                   0                               0   \n",
       "1                  0                   0                               0   \n",
       "2                  0                   0                               0   \n",
       "3                  0                   0                               0   \n",
       "4                  0                   0                               0   \n",
       "\n",
       "   department_BOYS WEAR        ...          bought_only  returned_only  \\\n",
       "0                     0        ...                    1              0   \n",
       "1                     0        ...                    1              0   \n",
       "2                     0        ...                    0              0   \n",
       "3                     0        ...                    1              0   \n",
       "4                     2        ...                    0              0   \n",
       "\n",
       "   bought_and_returned  Weekday_Friday  Weekday_Monday  Weekday_Saturday  \\\n",
       "0                    0               1               0                 0   \n",
       "1                    0               1               0                 0   \n",
       "2                    1               1               0                 0   \n",
       "3                    0               1               0                 0   \n",
       "4                    1               1               0                 0   \n",
       "\n",
       "   Weekday_Sunday  Weekday_Thursday  Weekday_Tuesday  Weekday_Wednesday  \n",
       "0               0                 0                0                  0  \n",
       "1               0                 0                0                  0  \n",
       "2               0                 0                0                  0  \n",
       "3               0                 0                0                  0  \n",
       "4               0                 0                0                  0  \n",
       "\n",
       "[5 rows x 111 columns]"
      ]
     },
     "execution_count": 21,
     "metadata": {},
     "output_type": "execute_result"
    }
   ],
   "source": [
    "final_test_data['weekend'] = final_test_data['Weekday'].isin(['Saturday', 'Sunday'])\n",
    "bought = final_test_data['products_bought'] > 0\n",
    "returned = final_test_data['products_returned'] > 0\n",
    "final_test_data['bought_only'] = bought & -returned\n",
    "final_test_data['returned_only'] = -bought & returned\n",
    "final_test_data['bought_and_returned'] = bought & returned\n",
    "final_test_data = pd.get_dummies(final_test_data)\n",
    "final_test_data = final_test_data.astype(int)\n",
    "final_test_data.head()"
   ]
  },
  {
   "cell_type": "code",
   "execution_count": 27,
   "metadata": {
    "collapsed": false
   },
   "outputs": [
    {
     "data": {
      "text/plain": [
       "True"
      ]
     },
     "execution_count": 27,
     "metadata": {},
     "output_type": "execute_result"
    }
   ],
   "source": [
    "list(final_train_data.drop(['VisitNumber', 'TripType'], 1).columns) == list(final_test_data.drop('VisitNumber', 1).columns)"
   ]
  },
  {
   "cell_type": "code",
   "execution_count": null,
   "metadata": {
    "collapsed": true
   },
   "outputs": [],
   "source": []
  },
  {
   "cell_type": "code",
   "execution_count": 28,
   "metadata": {
    "collapsed": false
   },
   "outputs": [],
   "source": [
    "from sklearn.model_selection import StratifiedKFold, GridSearchCV"
   ]
  },
  {
   "cell_type": "code",
   "execution_count": 29,
   "metadata": {
    "collapsed": false
   },
   "outputs": [],
   "source": [
    "train_features = final_train_data.drop(['VisitNumber', 'TripType'], 1).values\n",
    "train_target = final_train_data['TripType'].values\n",
    "test_features = final_test_data.drop('VisitNumber', 1).values\n",
    "test_labels = final_test_data['VisitNumber'].values"
   ]
  },
  {
   "cell_type": "code",
   "execution_count": 30,
   "metadata": {
    "collapsed": false
   },
   "outputs": [],
   "source": [
    "skf = StratifiedKFold(n_splits=4, shuffle=True, random_state=1)"
   ]
  },
  {
   "cell_type": "code",
   "execution_count": null,
   "metadata": {
    "collapsed": true
   },
   "outputs": [],
   "source": []
  },
  {
   "cell_type": "code",
   "execution_count": 31,
   "metadata": {
    "collapsed": true
   },
   "outputs": [],
   "source": [
    "from sklearn.ensemble import AdaBoostClassifier\n",
    "from sklearn.tree import DecisionTreeClassifier\n",
    "from sklearn.ensemble import GradientBoostingClassifier\n",
    "from sklearn.linear_model import LogisticRegression\n",
    "from sklearn.ensemble import RandomForestClassifier"
   ]
  },
  {
   "cell_type": "code",
   "execution_count": 32,
   "metadata": {
    "collapsed": false
   },
   "outputs": [
    {
     "data": {
      "text/plain": [
       "{'mean_fit_time': array([ 11.50288087,  11.40365791,  11.36808312,  10.61351198,   2.80020684]),\n",
       " 'mean_score_time': array([ 1.43327081,  1.44201857,  1.42591971,  1.58328068,  0.68216628]),\n",
       " 'mean_test_score': array([-2.63332501, -3.14435459, -3.54796036, -3.48363401, -4.21261813]),\n",
       " 'mean_train_score': array([-2.63220229, -3.14258322, -3.54771205, -3.48407133, -4.2125195 ]),\n",
       " 'param_learning_rate': masked_array(data = [0.01 0.1 1.0 10.0 100.0],\n",
       "              mask = [False False False False False],\n",
       "        fill_value = ?),\n",
       " 'params': ({'learning_rate': 0.01},\n",
       "  {'learning_rate': 0.1},\n",
       "  {'learning_rate': 1.0},\n",
       "  {'learning_rate': 10.0},\n",
       "  {'learning_rate': 100.0}),\n",
       " 'rank_test_score': array([1, 2, 4, 3, 5]),\n",
       " 'split0_test_score': array([-2.6367509 , -3.13548174, -3.54924006, -3.5230011 , -4.43147862]),\n",
       " 'split0_train_score': array([-2.63278616, -3.13356549, -3.54673656, -3.52157559, -4.42743569]),\n",
       " 'split1_test_score': array([-2.63583212, -3.13809147, -3.5426739 , -3.51291792, -3.9938274 ]),\n",
       " 'split1_train_score': array([-2.62963258, -3.13595655, -3.5418692 , -3.51486198, -3.99695286]),\n",
       " 'split2_test_score': array([-2.62981312, -3.16178662, -3.55226443, -3.47400904, -4.17058215]),\n",
       " 'split2_train_score': array([-2.63268644, -3.16107507, -3.55334963, -3.47296182, -4.16867282]),\n",
       " 'split3_test_score': array([-2.63089965, -3.14206666, -3.54766349, -3.42454837, -4.25448851]),\n",
       " 'split3_train_score': array([-2.63370398, -3.13973578, -3.54889283, -3.42688594, -4.25701665]),\n",
       " 'std_fit_time': array([ 0.07347545,  0.03843703,  0.02703809,  0.37756763,  0.11768388]),\n",
       " 'std_score_time': array([ 0.01054593,  0.00510912,  0.00793133,  0.00864913,  0.03713357]),\n",
       " 'std_test_score': array([ 0.00301   ,  0.01033267,  0.00347123,  0.03869837,  0.15757716]),\n",
       " 'std_train_score': array([ 0.00153572,  0.01090056,  0.0041312 ,  0.03790852,  0.15537091])}"
      ]
     },
     "execution_count": 32,
     "metadata": {},
     "output_type": "execute_result"
    }
   ],
   "source": [
    "abc_tuned_parameters = {'learning_rate': [0.01, 0.1, 1.0, 10.0, 100.0]}\n",
    "abc = GridSearchCV(AdaBoostClassifier(random_state=2), abc_tuned_parameters, cv=skf, scoring='neg_log_loss')\n",
    "abc.fit(train_features, train_target)\n",
    "abc.cv_results_"
   ]
  },
  {
   "cell_type": "code",
   "execution_count": 33,
   "metadata": {
    "collapsed": false
   },
   "outputs": [
    {
     "data": {
      "text/plain": [
       "{'mean_fit_time': array([ 0.3960824 ,  2.36718559]),\n",
       " 'mean_score_time': array([ 0.05000836,  0.0488798 ]),\n",
       " 'mean_test_score': array([-14.60213785, -13.17504545]),\n",
       " 'mean_train_score': array([-0.06551722, -0.06551722]),\n",
       " 'param_max_features': masked_array(data = ['auto' None],\n",
       "              mask = [False False],\n",
       "        fill_value = ?),\n",
       " 'params': ({'max_features': 'auto'}, {'max_features': None}),\n",
       " 'rank_test_score': array([2, 1]),\n",
       " 'split0_test_score': array([-14.64360036, -13.17534283]),\n",
       " 'split0_train_score': array([-0.0650156, -0.0650156]),\n",
       " 'split1_test_score': array([-14.46710962, -13.35764745]),\n",
       " 'split1_train_score': array([-0.06538183, -0.06538183]),\n",
       " 'split2_test_score': array([-14.80559316, -12.97418597]),\n",
       " 'split2_train_score': array([-0.06642838, -0.06642838]),\n",
       " 'split3_test_score': array([-14.49221808, -13.19295783]),\n",
       " 'split3_train_score': array([-0.06524309, -0.06524309]),\n",
       " 'std_fit_time': array([ 0.00483311,  0.02081822]),\n",
       " 'std_score_time': array([ 0.00114143,  0.00125343]),\n",
       " 'std_test_score': array([ 0.13547788,  0.13601902]),\n",
       " 'std_train_score': array([ 0.00054206,  0.00054206])}"
      ]
     },
     "execution_count": 33,
     "metadata": {},
     "output_type": "execute_result"
    }
   ],
   "source": [
    "dtc_tuned_parameters = {'max_features': [\"auto\", None]}\n",
    "dtc = GridSearchCV(DecisionTreeClassifier(), dtc_tuned_parameters, cv=skf, scoring='neg_log_loss')\n",
    "dtc.fit(train_features, train_target)\n",
    "dtc.cv_results_"
   ]
  },
  {
   "cell_type": "code",
   "execution_count": 34,
   "metadata": {
    "collapsed": false
   },
   "outputs": [
    {
     "data": {
      "text/plain": [
       "{'mean_fit_time': array([  604.96244514,  1537.41164178,  2730.91880566]),\n",
       " 'mean_score_time': array([ 1.74463266,  3.31623209,  3.98152214]),\n",
       " 'mean_test_score': array([-1.18944818, -0.92850169, -0.91345318]),\n",
       " 'mean_train_score': array([-1.17652046, -0.81650617, -0.55691493]),\n",
       " 'param_max_depth': masked_array(data = [1 3 5],\n",
       "              mask = [False False False],\n",
       "        fill_value = ?),\n",
       " 'params': ({'max_depth': 1}, {'max_depth': 3}, {'max_depth': 5}),\n",
       " 'rank_test_score': array([3, 2, 1]),\n",
       " 'split0_test_score': array([-1.19847887, -0.93153067, -0.91373174]),\n",
       " 'split0_train_score': array([-1.17412471, -0.81252733, -0.55954654]),\n",
       " 'split1_test_score': array([-1.18973976, -0.934813  , -0.92763509]),\n",
       " 'split1_train_score': array([-1.17539963, -0.81526948, -0.55958427]),\n",
       " 'split2_test_score': array([-1.1785933 , -0.92106814, -0.89876791]),\n",
       " 'split2_train_score': array([-1.17853974, -0.81924957, -0.55536556]),\n",
       " 'split3_test_score': array([-1.19097404, -0.92659004, -0.91367369]),\n",
       " 'split3_train_score': array([-1.17801776, -0.81897832, -0.55316335]),\n",
       " 'std_fit_time': array([ 2.97487277,  9.22787076,  9.0575106 ]),\n",
       " 'std_score_time': array([ 0.02428331,  0.01725267,  0.05923686]),\n",
       " 'std_test_score': array([ 0.00710319,  0.00519415,  0.01020895]),\n",
       " 'std_train_score': array([ 0.0018245 ,  0.00278381,  0.0027625 ])}"
      ]
     },
     "execution_count": 34,
     "metadata": {},
     "output_type": "execute_result"
    }
   ],
   "source": [
    "gbc_tuned_parameters = {'max_depth': [1, 3, 5]}\n",
    "gbc = GridSearchCV(GradientBoostingClassifier(random_state=3), gbc_tuned_parameters, cv=skf, scoring='neg_log_loss')\n",
    "gbc.fit(train_features, train_target)\n",
    "gbc.cv_results_"
   ]
  },
  {
   "cell_type": "code",
   "execution_count": 35,
   "metadata": {
    "collapsed": false
   },
   "outputs": [
    {
     "name": "stderr",
     "output_type": "stream",
     "text": [
      "C:\\Users\\chinghaohu\\Anaconda3\\lib\\site-packages\\sklearn\\linear_model\\base.py:352: RuntimeWarning: overflow encountered in exp\n",
      "  np.exp(prob, prob)\n",
      "C:\\Users\\chinghaohu\\Anaconda3\\lib\\site-packages\\sklearn\\linear_model\\base.py:352: RuntimeWarning: overflow encountered in exp\n",
      "  np.exp(prob, prob)\n",
      "C:\\Users\\chinghaohu\\Anaconda3\\lib\\site-packages\\sklearn\\linear_model\\base.py:352: RuntimeWarning: overflow encountered in exp\n",
      "  np.exp(prob, prob)\n",
      "C:\\Users\\chinghaohu\\Anaconda3\\lib\\site-packages\\sklearn\\linear_model\\base.py:352: RuntimeWarning: overflow encountered in exp\n",
      "  np.exp(prob, prob)\n",
      "C:\\Users\\chinghaohu\\Anaconda3\\lib\\site-packages\\sklearn\\linear_model\\base.py:352: RuntimeWarning: overflow encountered in exp\n",
      "  np.exp(prob, prob)\n",
      "C:\\Users\\chinghaohu\\Anaconda3\\lib\\site-packages\\sklearn\\linear_model\\base.py:352: RuntimeWarning: overflow encountered in exp\n",
      "  np.exp(prob, prob)\n",
      "C:\\Users\\chinghaohu\\Anaconda3\\lib\\site-packages\\sklearn\\linear_model\\base.py:352: RuntimeWarning: overflow encountered in exp\n",
      "  np.exp(prob, prob)\n",
      "C:\\Users\\chinghaohu\\Anaconda3\\lib\\site-packages\\sklearn\\linear_model\\base.py:352: RuntimeWarning: overflow encountered in exp\n",
      "  np.exp(prob, prob)\n",
      "C:\\Users\\chinghaohu\\Anaconda3\\lib\\site-packages\\sklearn\\linear_model\\base.py:352: RuntimeWarning: overflow encountered in exp\n",
      "  np.exp(prob, prob)\n",
      "C:\\Users\\chinghaohu\\Anaconda3\\lib\\site-packages\\sklearn\\linear_model\\base.py:352: RuntimeWarning: overflow encountered in exp\n",
      "  np.exp(prob, prob)\n",
      "C:\\Users\\chinghaohu\\Anaconda3\\lib\\site-packages\\sklearn\\linear_model\\base.py:352: RuntimeWarning: overflow encountered in exp\n",
      "  np.exp(prob, prob)\n",
      "C:\\Users\\chinghaohu\\Anaconda3\\lib\\site-packages\\sklearn\\linear_model\\base.py:352: RuntimeWarning: overflow encountered in exp\n",
      "  np.exp(prob, prob)\n",
      "C:\\Users\\chinghaohu\\Anaconda3\\lib\\site-packages\\sklearn\\linear_model\\base.py:352: RuntimeWarning: overflow encountered in exp\n",
      "  np.exp(prob, prob)\n",
      "C:\\Users\\chinghaohu\\Anaconda3\\lib\\site-packages\\sklearn\\linear_model\\base.py:352: RuntimeWarning: overflow encountered in exp\n",
      "  np.exp(prob, prob)\n",
      "C:\\Users\\chinghaohu\\Anaconda3\\lib\\site-packages\\sklearn\\linear_model\\base.py:352: RuntimeWarning: overflow encountered in exp\n",
      "  np.exp(prob, prob)\n",
      "C:\\Users\\chinghaohu\\Anaconda3\\lib\\site-packages\\sklearn\\linear_model\\base.py:352: RuntimeWarning: overflow encountered in exp\n",
      "  np.exp(prob, prob)\n"
     ]
    },
    {
     "data": {
      "text/plain": [
       "{'mean_fit_time': array([  33.5163874 ,   51.60751903,   82.71872503,  130.88320577,\n",
       "         180.13146788]),\n",
       " 'mean_score_time': array([ 0.06659031,  0.06216478,  0.06377643,  0.06091189,  0.06074685]),\n",
       " 'mean_test_score': array([-1.35202104, -1.18208179, -1.16240774, -1.16683369, -1.17256691]),\n",
       " 'mean_train_score': array([-1.33670425, -1.14877198, -1.11143156, -1.10430162, -1.10275899]),\n",
       " 'param_C': masked_array(data = [0.01 0.1 1.0 10.0 100.0],\n",
       "              mask = [False False False False False],\n",
       "        fill_value = ?),\n",
       " 'params': ({'C': 0.01}, {'C': 0.1}, {'C': 1.0}, {'C': 10.0}, {'C': 100.0}),\n",
       " 'rank_test_score': array([5, 4, 1, 2, 3]),\n",
       " 'split0_test_score': array([-1.36405076, -1.19064384, -1.16980657, -1.17390215, -1.17954232]),\n",
       " 'split0_train_score': array([-1.33284535, -1.14516835, -1.10782355, -1.10070329, -1.09914631]),\n",
       " 'split1_test_score': array([-1.34961273, -1.18204964, -1.16253674, -1.16741701, -1.17281837]),\n",
       " 'split1_train_score': array([-1.33752619, -1.14872844, -1.11147433, -1.10447449, -1.10302195]),\n",
       " 'split2_test_score': array([-1.34369149, -1.1709026 , -1.14892191, -1.15264081, -1.15799651]),\n",
       " 'split2_train_score': array([-1.33935701, -1.15248687, -1.11542349, -1.10824077, -1.10664537]),\n",
       " 'split3_test_score': array([-1.3507199 , -1.18472518, -1.16836181, -1.17337121, -1.17990729]),\n",
       " 'split3_train_score': array([-1.33708844, -1.14870427, -1.11100485, -1.10378794, -1.10222234]),\n",
       " 'std_fit_time': array([ 0.18101143,  0.56971959,  1.72420664,  2.09306071,  4.35310884]),\n",
       " 'std_score_time': array([ 0.01172042,  0.00321109,  0.00379614,  0.00134918,  0.00107664]),\n",
       " 'std_test_score': array([ 0.00744417,  0.00716395,  0.00824709,  0.00857978,  0.00887213]),\n",
       " 'std_train_score': array([ 0.00238493,  0.0025881 ,  0.00269894,  0.00268135,  0.00266986])}"
      ]
     },
     "execution_count": 35,
     "metadata": {},
     "output_type": "execute_result"
    }
   ],
   "source": [
    "lr_tuned_parameters = {'C': [0.01, 0.1, 1.0, 10.0, 100.0]}\n",
    "lr = GridSearchCV(LogisticRegression(random_state=4), lr_tuned_parameters, cv=skf, scoring='neg_log_loss')\n",
    "lr.fit(train_features, train_target)\n",
    "lr.cv_results_"
   ]
  },
  {
   "cell_type": "code",
   "execution_count": 36,
   "metadata": {
    "collapsed": false
   },
   "outputs": [
    {
     "data": {
      "text/plain": [
       "{'mean_fit_time': array([ 0.29782265,  0.58417875,  0.90527368,  2.14747155]),\n",
       " 'mean_score_time': array([ 0.09610689,  0.10289866,  0.11530662,  0.16815704]),\n",
       " 'mean_test_score': array([-2.7779433 , -2.14289792, -1.68994732, -4.33642646]),\n",
       " 'mean_train_score': array([-2.77736742, -2.13567952, -1.61324482, -0.26125066]),\n",
       " 'param_max_depth': masked_array(data = [1 5 10 None],\n",
       "              mask = [False False False False],\n",
       "        fill_value = ?),\n",
       " 'params': ({'max_depth': 1},\n",
       "  {'max_depth': 5},\n",
       "  {'max_depth': 10},\n",
       "  {'max_depth': None}),\n",
       " 'rank_test_score': array([3, 2, 1, 4]),\n",
       " 'split0_test_score': array([-2.77958797, -2.15772784, -1.69016593, -4.35925619]),\n",
       " 'split0_train_score': array([-2.77514156, -2.1451049 , -1.60067406, -0.26046047]),\n",
       " 'split1_test_score': array([-2.77904016, -2.15441681, -1.69562854, -4.37251837]),\n",
       " 'split1_train_score': array([-2.77810036, -2.14138433, -1.61272159, -0.25975056]),\n",
       " 'split2_test_score': array([-2.7744201 , -2.13861698, -1.66764386, -4.22680101]),\n",
       " 'split2_train_score': array([-2.77901287, -2.14216551, -1.60698399, -0.26297527]),\n",
       " 'split3_test_score': array([-2.77872361, -2.1208075 , -1.70635461, -4.38711853]),\n",
       " 'split3_train_score': array([-2.77721488, -2.11406335, -1.63259966, -0.26181633]),\n",
       " 'std_fit_time': array([ 0.00863007,  0.00261422,  0.0039185 ,  0.04837621]),\n",
       " 'std_score_time': array([ 0.00688821,  0.00108534,  0.00276867,  0.00368682]),\n",
       " 'std_test_score': array([ 0.00205724,  0.01465276,  0.01413096,  0.06404705]),\n",
       " 'std_train_score': array([ 0.00143374,  0.01255697,  0.01195936,  0.00124187])}"
      ]
     },
     "execution_count": 36,
     "metadata": {},
     "output_type": "execute_result"
    }
   ],
   "source": [
    "rfc_tuned_parameters = {'max_depth': [1, 5, 10, None]}\n",
    "rfc = GridSearchCV(RandomForestClassifier(random_state=5), rfc_tuned_parameters, cv=skf, scoring='neg_log_loss')\n",
    "rfc.fit(train_features, train_target)\n",
    "rfc.cv_results_"
   ]
  },
  {
   "cell_type": "code",
   "execution_count": null,
   "metadata": {
    "collapsed": true
   },
   "outputs": [],
   "source": []
  },
  {
   "cell_type": "code",
   "execution_count": 37,
   "metadata": {
    "collapsed": true
   },
   "outputs": [],
   "source": [
    "predict_test_target = gbc.predict_proba(test_features)\n",
    "test_target = pd.DataFrame(predict_test_target)"
   ]
  },
  {
   "cell_type": "code",
   "execution_count": 39,
   "metadata": {
    "collapsed": false
   },
   "outputs": [],
   "source": [
    "trip_types = gbc.best_estimator_.classes_\n",
    "trip_types = ['TripType_' + str(t) for t in list(trip_types)]\n",
    "test_target.columns = trip_types"
   ]
  },
  {
   "cell_type": "code",
   "execution_count": 41,
   "metadata": {
    "collapsed": true
   },
   "outputs": [],
   "source": [
    "test_target['VisitNumber'] = pd.Series(test_labels)"
   ]
  },
  {
   "cell_type": "code",
   "execution_count": 42,
   "metadata": {
    "collapsed": true
   },
   "outputs": [],
   "source": [
    "cols = test_target.columns.tolist()\n",
    "cols = cols[-1:] + cols[:-1]\n",
    "test_target[cols].to_csv('test_predictions.csv', index=False)"
   ]
  },
  {
   "cell_type": "code",
   "execution_count": null,
   "metadata": {
    "collapsed": true
   },
   "outputs": [],
   "source": []
  }
 ],
 "metadata": {
  "kernelspec": {
   "display_name": "Python 3",
   "language": "python",
   "name": "python3"
  },
  "language_info": {
   "codemirror_mode": {
    "name": "ipython",
    "version": 3
   },
   "file_extension": ".py",
   "mimetype": "text/x-python",
   "name": "python",
   "nbconvert_exporter": "python",
   "pygments_lexer": "ipython3",
   "version": "3.6.0"
  }
 },
 "nbformat": 4,
 "nbformat_minor": 2
}
